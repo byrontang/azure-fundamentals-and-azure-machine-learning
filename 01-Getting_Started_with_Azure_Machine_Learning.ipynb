{
 "cells": [
  {
   "cell_type": "markdown",
   "metadata": {},
   "source": [
    "## Lab 01 Getting Started with Azure Machine Learning\n",
    "\n",
    "The Azure ML SDK for Python provides classes you can use to work with Azure ML in your Azure subscription.\n",
    "### azureml-core package\n",
    "   **(create a new workspace or connect to an existing workspace -> create an Azure ML experiment in workspace -> create a run to run codes)**\n",
    "   \n",
    "#### Workspace   \n",
    "```python\n",
    "from azureml.core import Workspace\n",
    "```    \n",
    "- All experiments and associated resources are managed within you Azure ML workspace. You can connect to an existing workspace, or create a new one using the Azure ML SDK. \n",
    "- In most cases, you should store the workspace configuration in a JSON configuration file. This makes it easier to reconnect without needing to remember details like your Azure subscription ID.\n",
    "- You can download the JSON configuration file from the blade for your workspace in the Azure portal, but **if you're using a Compute Instance within your workspace, the configuration file has already been downloaded to the root folder**.\n",
    "- `.from_config()` finds and uses the configuration file from the root folder to connect to your workspace.\n",
    "\n",
    "#### Experiment\n",
    "```python\n",
    "from azureml.core import Experiment\n",
    "```    \n",
    "- We use an Azure ML experiment to run Python code and record values extracted from data.\n",
    "- Create an Azure ML experiment in workspace\n",
    "\n",
    "#### Run\n",
    "- There are two ways to create run:\n",
    "    1. `experiment.start_logging()`\n",
    "    2. `Run()` \n",
    "```python\n",
    "from azureml.core import Run\n",
    "```\n",
    "- Create a separate script from experiment, store it in a folder along with any other files it needs, and then use Azure ML to tun the experiment based on the script in the folder.\n",
    "- `Run.get_context()` method to retrieve the experiment run context when the script is run\n",
    "***After a run object is created, use various `.log*()` methods to log the outputs.***\n",
    "\n",
    "#### Configuration\n",
    "```python\n",
    "from azureml.core import Experiment, RunConfiguration, ScriptRunConfig\n",
    "```\n",
    "- Please refer to [previous note] for better understanding\n",
    "\n",
    "## MLflow\n",
    "\n",
    "**MLflow** is an open source platform for managing machine learning processes. It's **commonly (but not exclusively) used in Databricks environments** to coordinate experiments and track metrics. In Azure Machine Learning experiments, you can use MLflow to track metrics instead of the native log functionality if you desire.\n",
    "\n",
    "```pythoh\n",
    "import mlflow\n",
    "```\n",
    "- Refer to the notebook codes in official Git-Hub fore more details.\n"
   ]
  }
 ],
 "metadata": {
  "kernelspec": {
   "display_name": "Python 3",
   "language": "python",
   "name": "python3"
  },
  "language_info": {
   "codemirror_mode": {
    "name": "ipython",
    "version": 3
   },
   "file_extension": ".py",
   "mimetype": "text/x-python",
   "name": "python",
   "nbconvert_exporter": "python",
   "pygments_lexer": "ipython3",
   "version": "3.5.2"
  }
 },
 "nbformat": 4,
 "nbformat_minor": 2
}
