{
 "cells": [
  {
   "cell_type": "markdown",
   "metadata": {},
   "source": [
    "## Key Concepts:\n",
    "- Create a training script and log key metrics of modeling performance\n",
    "- Use an Estimator to run the script as experiment\n",
    "```python \n",
    "from azureml.train.estimator import Estimator\n",
    "```\n",
    "•\tView logged metrics\n",
    "o\tfrom azureml.widgets import RunDetails\n",
    "•\tRegister the trained model to the workspace\n",
    "o\tfrom azureml.core import Model\n",
    "•\tCreate a parameterized training script: Adding parameters to your script enables you to repeat the same training experiment with different settings\n",
    "o\timport argparse\n",
    "o\tparser = argparse.ArgumentParser()\n",
    "o\tparser.add_argument('--reg_rate', type=float, dest='reg', default=0.01)\n",
    "o\targs = parser.parse_args()\n",
    "o\treg = args.reg\n",
    "•\tUse a framework-specific Estimator\n",
    "o\tfrom azureml.train.sklearn import SKLearn\n",
    "•\tRegister a new version of the model\n",
    "o\t The version of the same model will be updated.\n"
   ]
  }
 ],
 "metadata": {
  "kernelspec": {
   "display_name": "Python 3",
   "language": "python",
   "name": "python3"
  },
  "language_info": {
   "codemirror_mode": {
    "name": "ipython",
    "version": 3
   },
   "file_extension": ".py",
   "mimetype": "text/x-python",
   "name": "python",
   "nbconvert_exporter": "python",
   "pygments_lexer": "ipython3",
   "version": "3.5.2"
  }
 },
 "nbformat": 4,
 "nbformat_minor": 2
}
