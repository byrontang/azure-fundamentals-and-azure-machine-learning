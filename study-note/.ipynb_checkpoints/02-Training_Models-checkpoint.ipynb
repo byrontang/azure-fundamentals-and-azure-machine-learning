{
 "cells": [
  {
   "cell_type": "markdown",
   "metadata": {},
   "source": [
    "## Key Concepts:\n",
    "- Create a training script and log key metrics of modeling performance\n",
    "- Use an Estimator to run the script as experiment\n",
    "```python \n",
    "from azureml.train.estimator import Estimator\n",
    "```\n",
    "- View logged metrics\n",
    "```python\n",
    "from azureml.widgets import RunDetails\n",
    "```\n",
    "- Register the trained model to the workspace\n",
    "```python\n",
    "from azureml.core import Model\n",
    "```\n",
    "- Create a parameterized training script: Adding parameters to your script enables you to repeat the same training experiment with different settings\n",
    "```python\n",
    "import argparse\n",
    "parser = argparse.ArgumentParser()\n",
    "parser.add_argument('--reg_rate', type=float, dest='reg', default=0.01)\n",
    "args = parser.parse_args()\n",
    "reg = args.reg\n",
    "```\n",
    "- Use a framework-specific Estimator\n",
    "```python\n",
    "from azureml.train.sklearn import SKLearn\n",
    "```\n",
    "- Register a new version of the model\n",
    "    - The version of the same model will be updated.\n"
   ]
  },
  {
   "cell_type": "markdown",
   "metadata": {},
   "source": [
    "## Side Note: Revisit how to interprete ROC\n",
    "- Y axis calculates True Positive Rate – the base is True (Ex: 80 True instances)\n",
    "- X axis calculates False Positive Rate – the base is False (Ex: 20 False instances)\n",
    "    - If we select True by randomly, the probability of selecting a true or false instance is 0.8 and 0.2. Therefore, TPR and FPR will increase at around the same pace.\n",
    "    - However, if we build a good predictive model, the probability of selecting a true instance should increase, skewing the curve to the top-left. ***The better the capability of the model to predict true positive, the higher the AUC.***\n",
    "\n",
    "### Don’t confuse the concept of AUC and Accuracy.\n",
    "- AUC shows **the capability of a model to predict true positives**, and each axis has different base.\n",
    "- The base of accuracy includes both true and false instances. It doesn’t take into account the capability of predicting true positives.\n"
   ]
  }
 ],
 "metadata": {
  "kernelspec": {
   "display_name": "Python 3",
   "language": "python",
   "name": "python3"
  },
  "language_info": {
   "codemirror_mode": {
    "name": "ipython",
    "version": 3
   },
   "file_extension": ".py",
   "mimetype": "text/x-python",
   "name": "python",
   "nbconvert_exporter": "python",
   "pygments_lexer": "ipython3",
   "version": "3.5.2"
  }
 },
 "nbformat": 4,
 "nbformat_minor": 2
}
