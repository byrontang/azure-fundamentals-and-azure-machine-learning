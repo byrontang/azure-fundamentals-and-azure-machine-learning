{
 "cells": [
  {
   "cell_type": "markdown",
   "metadata": {},
   "source": [
    "- In Azure Machine Learning, ***datastores*** are abstractions for cloud data sources / storage locations. \n",
    "    -\tUpload data\n",
    "        - We can upload data to a datastore. When you uploaded the files using `.upload_files()`, note that the code returned a *data reference*.\n",
    "    - Configure data reference\n",
    "        - We can configures the data reference for ***download*** - in other words, it can be used to download the contents of the folder to the compute context where the data reference is being used. \n",
    "        - When working with remote compute, you can also configure a data reference to ***mount*** the datastore location and read data directly from the data source. \n",
    "    -\tTrain a model from a datastore\n",
    "        - The **data reference** can then be passed to a training script as a parameter.\n",
    "- ***Datasets*** are versioned packaged data objects that can be easily consumed in experiments and pipelines.\n",
    "    - Create datasets\n",
    "        - While you can **read data directly from datastores**, Azure Machine Learning provides a further abstraction for data in the form of datasets. (As apposed to data reference)\n",
    "        - A dataset is a versioned reference to a specific set of data that you may want to use in an experiment. Datasets can be tabular or file-based.\n",
    "        - It's easy to convert a tabular dataset to a Pandas dataframe, enabling you to work with the data using common python techniques.\n",
    "    - Register datasets\n",
    "    - Train a model from a dataset\n",
    "        - Pass the dataset as an input in the estimator being used to run the script \n",
    "            - In the script: `run.input_datasets['diabetes'].to_pandas_dataframe()`\n",
    "                - **Note: This line grabs the input dataset named ‘diabetes’ from the run submitted.**\n",
    "            - `diabetes_ds = ws.datasets.get(\"diabetes dataset\")`\n",
    "                - **Note: Before configure a run, we need to set up an dataset object using the dataset in workspace**\n",
    "            - In SKLearn(): `inputs=[diabetes_ds.as_named_input('diabetes')]`\n",
    "                - **Note: The dataset object can then be passed to the inputs argument when configuring Estimator**"
   ]
  }
 ],
 "metadata": {
  "kernelspec": {
   "display_name": "Python 3",
   "language": "python",
   "name": "python3"
  },
  "language_info": {
   "codemirror_mode": {
    "name": "ipython",
    "version": 3
   },
   "file_extension": ".py",
   "mimetype": "text/x-python",
   "name": "python",
   "nbconvert_exporter": "python",
   "pygments_lexer": "ipython3",
   "version": "3.5.2"
  }
 },
 "nbformat": 4,
 "nbformat_minor": 2
}
