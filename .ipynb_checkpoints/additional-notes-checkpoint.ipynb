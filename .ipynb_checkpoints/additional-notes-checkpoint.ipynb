{
 "cells": [
  {
   "cell_type": "markdown",
   "metadata": {},
   "source": [
    "- VM Subnet?\n",
    "- Free account - what it provides/includes; Free vs Premium\n",
    "- Azure Resrouce Manager templates\n",
    "- network interface?\n",
    "- Azure Advisor - what does it help?\n",
    "- Azure Resource Manager"
   ]
  },
  {
   "cell_type": "markdown",
   "metadata": {},
   "source": [
    "## Describe Cloud Concepts"
   ]
  },
  {
   "cell_type": "markdown",
   "metadata": {},
   "source": [
    "A private cloud requires the infrastructure to be on a private network."
   ]
  },
  {
   "cell_type": "markdown",
   "metadata": {},
   "source": [
    "## Dscribe Core Azure Services"
   ]
  },
  {
   "cell_type": "markdown",
   "metadata": {},
   "source": [
    "### Region\n",
    "\n",
    "Regions cannot span countries. They are tied to a single country or geographical area.\n",
    "\n",
    "Regions specify the location of resrouces"
   ]
  },
  {
   "cell_type": "markdown",
   "metadata": {},
   "source": [
    "### Azure Virtual Machine Scale Sets\n",
    "\n",
    "Azure virtual machine scale sets allow you to create and manage identical VMs. They provide for the number of VM instances to increase or decrease automatically as demand changes. You can dploy multiple scale sets to meet the needs of multiple large-scale service requirements.\n",
    "\n",
    "Virtual machine scale sets automatically create and integrate with Azure load balancer or Application Gateway. This is one of the advantages of using VM scale sets over deploying individual VMs, in which case you would need to manually create and configure Azure Load Balancer and Application Gateway.\n",
    "\n",
    "VM scale sets provide for automatic distribution over Availability Sets and Availability Zones, but not Regions.\n",
    "\n",
    "VM Scale sets can rapidly create hundreds of identical VMs from a central configuration. This includes all instances using the same base operating system. It ensures that configurations for VM size, disk configuration, and installed applications are identical for each VM instance. Virtual machine scale sets support up to 1000 VM instances unless you upload a custom VM instance, in which case you are limited to 300 VM instances."
   ]
  },
  {
   "cell_type": "markdown",
   "metadata": {},
   "source": [
    "### Azure Container Instances\n",
    "\n",
    "ACI is designed to for simple application solutions based on isolated containers and does not provide orchestration support, such as coordinated application upgrades. \n",
    "\n",
    "ACI does not support Azure disk as a storage option and is limited to Azure file storage. Azure Files is the only storage option that supports persistent storage for ACI. You would need to create the share and then create a container specifying the share and volume mount point.\n"
   ]
  },
  {
   "cell_type": "markdown",
   "metadata": {},
   "source": [
    "### Serverless Solutions\n",
    "\n",
    "Scenario: You want to execute JavaScript code that sends a maintenance email every Sunday evening.\n",
    "- Resource: Function - A Function app allows you to write code that executes on a trigger or a schedule.\n",
    "\n",
    "Scenario: You want to use serverless computating to design a graphical workflow.\n",
    "- Resource: Logic app / not Function app - You should not use a Function app. A Function app contains one or more functions that require you to write code. You cannot design a grahpical workflow.\n",
    "\n",
    "Senario: Execute a graphical wokflow in a browser\n",
    "- Resource: Power Automate\n",
    "\n",
    "Senario: Serverless workflow orchestration to let you integrate apps, data, systems, and services across enterprises or organizations.\n",
    "- Resource: Logic Apps\n",
    "\n",
    "Senario: Building scalable solutions for app integration, data integration, system integration, enterprise application integration (EAI), and B2B communication."
   ]
  },
  {
   "cell_type": "markdown",
   "metadata": {},
   "source": [
    "### Resource Groups\n",
    "\n",
    "Locking a resrouce group (or subscription) as read-only locks all resrouces contained in the group. \n",
    "\n",
    "A resource group can contain resources from any region, not just the region in which the resource group is located."
   ]
  },
  {
   "cell_type": "markdown",
   "metadata": {},
   "source": [
    "### Machine Learning Studio & Machine Learning Service\n",
    "\n",
    "Machine learning models created in Machine Learnign Studio cannot be deployed or maganed by Azure Machine Learning service. Machine Learning Studio solutions are managed in Machine Learning Studio and are only deployed as web services."
   ]
  },
  {
   "cell_type": "markdown",
   "metadata": {},
   "source": [
    "### HDInsight\n",
    "\n",
    "HDInsights is an open-source enterprise-level analytics service that provides for fast and cost-effective processing of massive amounts of data. HDInsights can be used to analyze streaming or historic data. Scenarios for using HDInsights include ETL bach processing, interactive queries on data warehouses, and processing streams of IoT data."
   ]
  },
  {
   "cell_type": "markdown",
   "metadata": {},
   "source": [
    "### Azure PowerShell\n",
    "\n",
    "Azure PowerShell can be used to create scripts to automate Azure management tasks. Azure PowerShell VM management can be used to manage Windows, Linux, and Mac OS VMs. Azure PowerShell commands work the same on Linx and Windows. PowerShell commands are supported on Mac system if you install PowerShell Core.\n",
    "\n",
    "Azure PowerShell can be run in a browser in the Azure Cloud Shell or by connecting through Azure PowerShell. \n",
    "\n",
    "Syntax:\n",
    "`Connect-AzureRMAccount`"
   ]
  },
  {
   "cell_type": "markdown",
   "metadata": {},
   "source": [
    "### Azure CLI\n",
    "\n",
    "Commands work the same on Mac, Linux, and Windows with Azure CLI. \n",
    "\n",
    "Syntax: `az vm create`"
   ]
  },
  {
   "cell_type": "markdown",
   "metadata": {},
   "source": [
    "### Azure PowerShell & Azure CLI\n",
    "\n",
    "Both Azure CLI and Azure PowerShell execute commands in an interactive command-line based environment.\n",
    "\n",
    "Niether Azure CLI nor Azure PowerShell supports a GUI interface. They are both command-line only environments."
   ]
  },
  {
   "cell_type": "markdown",
   "metadata": {},
   "source": [
    "### Azure Cloud Shell\n",
    "\n",
    "A storage account is required to use Azure Cloud Shell.\n",
    "\n",
    "Azure Cloud Shell supports both Azure PowerShell and Azure CLI. When launching Cloud Shell, choose Bash to support Azure CLI commands and PowerShell to support Azure PowerShell commands. In additiona, Azure Cloud Shell supports many programming languages.\n",
    "\n",
    "\n",
    "When running Azure PowerShell with Cloud Shell, Linux-specific functionality is available, but Windows-specific functionality is not. This is because Cloud Shell runs PowerShell 6 on Linux container.\n",
    "\n",
    "Cloud Shell times out with 20 minutes of inactivity.\n",
    "\n",
    "Cloud Shell does not provide a way to run Azure CLI and Azure PowerShell on iOS and Android mobile devices. Instead, Cloud Shell can be accessed from Azure mobile app, among other features available on the app, to manage and monitor the Azure environment."
   ]
  },
  {
   "cell_type": "markdown",
   "metadata": {},
   "source": [
    "### Azure Resource Manager Template\n",
    "\n",
    "Azure Resource Manager templates use basic JavaScript Object Notation (JSON) syntax with support for expressions and functions that extend JSON values. JSON is a language-independent data format that is supported by a variety of programming languages."
   ]
  },
  {
   "cell_type": "markdown",
   "metadata": {},
   "source": [
    "## Describe Security, Privacy, Compliance, and Trust"
   ]
  },
  {
   "cell_type": "markdown",
   "metadata": {},
   "source": [
    "- Free vs Premium account\n",
    "- Details of Azure Advanced Threat Protection (ATP)"
   ]
  },
  {
   "cell_type": "markdown",
   "metadata": {},
   "source": [
    "### Azure NSG\n",
    "\n",
    "Azure NSG provides filtering between Azure subnets. Security filters are defined through network security rules. An NSG can be associated and dissociated with a subnet or with a particular network adapter to manage a particular virtual machine (VM), providing granular control over traffic filtering. If an NSG is defined at both the subnet and adapter level, an allow rule is required at both the subnet and adapter to enable traffic to pass.\n",
    "\n",
    "A NSG does not allow you to create a policy that restricts network traffic across subscriptions. An NSG can only protect resources in a single subscription."
   ]
  },
  {
   "cell_type": "markdown",
   "metadata": {},
   "source": [
    "### Application Security Groups (ASGs)\n",
    "\n",
    "Application Security Groups (ASGs) let you organize similar servers so you can easily define and implement security policies based on those groups. ASGs let you apply security to the group as a whole. ASGs let you group virtual machine (VMs) and define network security policies based on those groups.\n",
    "\n",
    "NSGs are specialized packet filtering firewalls that let you define security rules to control traffic into and out of a VNet and between submets. You have the option of applying NSGs to ASGs to limit their filtering to servers in those ASGs. You would create the necessary ASGs first, then create your NSGs, and apply them to the ASGs."
   ]
  },
  {
   "cell_type": "markdown",
   "metadata": {},
   "source": [
    "### Azure Firewall\n",
    "\n",
    "You can use Azure Firewall to filter traffic between Azure virtual subntes and between Azure and on-premises deployment. Azure Firewall supports the filtering of spoke-to-spoke internal traffic, incoming and outgoing traffic, and for Azure VPN and ExpressRoute gateways. It also supports monitoring and logging through integration with Azure Monitor.\n",
    "\n",
    "You should use Azure Firewall when you want to create a rule that restricts network traffic across subscriptions. It has built-in hight availability. Rules are enforced and logged across subscriptions, which reduces management overhead."
   ]
  },
  {
   "cell_type": "markdown",
   "metadata": {},
   "source": [
    "### User-Defined Routes (UDRs)\n",
    "\n",
    "You Azure deployment is configured with a virtual network (VNet) consisting of multiple subnets. All outgoing traffic from Azure to your on-premises network should be routed through a specific Azure Firewall. The Firewall is pre-configured on you network. You need to configure network traffic controls to meet this requirement.\n",
    "\n",
    "You should configure UDRs as a custom routing table and apply the custom routing table to each subnet. The routes in the custom routing table will override the pre-configured system routes."
   ]
  },
  {
   "cell_type": "markdown",
   "metadata": {},
   "source": [
    "### Application Gateway\n",
    "\n",
    "Application Gateway is a web load ablancer that supports traffic balancing across multiple Application Zones. It acts as an Open System Interconnection (OSI) level 7 load balancer and lets you route traffic to a server pool based on the incoming URL. For example, it can route all traffic to http://www.xxx.com/images to one pool of instances, while routing all traffic to http://www.xxx.com/videos to a different pool of instances.\n",
    "\n",
    "Application Gateway can scale automatically based on changing demands."
   ]
  },
  {
   "cell_type": "markdown",
   "metadata": {},
   "source": [
    "### Traffic Manager\n",
    "\n",
    "Traffic Manager allows users to access resources that are nearest to them by using Domain Name System (DNS)."
   ]
  },
  {
   "cell_type": "markdown",
   "metadata": {},
   "source": [
    "### Azure Active Directory (AD)\n",
    "\n",
    "Free: User and group management; self-service password change for cloud users\n",
    "\n",
    "Azure AD authentication and authorization support does not require integration with an on-premises AD. \n",
    "\n",
    "Authentication types that support both self-service password reset (SSPR) and Multi-Factor Authentication (MFA):\n",
    "- Password\n",
    "- SMS\n",
    "- Voice call\n",
    "\n",
    "An MFA server is required for authentication when supporting users located on on-premises Active Directory only. Azure MFA Service (Cloud) does not support this configuration and requires Azure AD as a security component."
   ]
  },
  {
   "cell_type": "markdown",
   "metadata": {},
   "source": [
    "### Azure Security Center\n",
    "\n",
    "Azure Security Center supports monitoring, security recommendations, and advanced threat protection for cloud and on-premises VM resources. This means that resources and workloads are protected across a hybrid environment, whether or not they are deployed in Azure."
   ]
  },
  {
   "cell_type": "markdown",
   "metadata": {},
   "source": [
    "### Azure Service Health\n",
    "\n",
    "Service Health notifies you if your App Service usage exceeds the usage quota. This is referred to as a health advisory.\n",
    "\n",
    "Service Health does not allow you to receive emails when unauthorized users attempt to access a VM. Unauthorized login attemps are saved in resource logs.\n",
    "\n",
    "You should monitor Health advisories to view the Azure features that are planned to be deprecated. Health advisories show you events that are of concern to you, such as when you exceed usage quota or when a feature is about to be deprecated.\n",
    "\n",
    "Azure Service Health provides information about planned maintenance and advisories such as deprecated offerings. This is provided through Azure status at the global level and Service Health at the individual service level. \n",
    "\n",
    "Service Health tracks the state of Azure services. It allows administrators to be notified of events like planned maintenance, service outage, or resource usage quotas. You can have Service Health send an email whenever VM usage exceeds its quota."
   ]
  },
  {
   "cell_type": "markdown",
   "metadata": {},
   "source": [
    "### Azure Monitor\n",
    "\n",
    "Azure Monitor can use autoscale to add or remove resources as appropriate to minimize costs and ensure performance. You can create rules based on metrics collected by Azure Monitor to match resources to an application load."
   ]
  },
  {
   "cell_type": "markdown",
   "metadata": {},
   "source": [
    "### Regulations\n",
    "\n",
    "NIST 800-171 is a United States regulation that provides guidelines addressing controlled unclassified information (CUI) in non-federal information systems and organizations. It specifies how organizations that work with the US government need to set up to their information systems and policies to protect CUI. CUI is any unclassified information created by the government that needs protection. NIST is a national standards-based non-regulatory agency that is based in the United States and is part of the US Department of Commerce.\n",
    "\n",
    "GDPR addresses data protection and privacy for all individuals in the European Union (EU). It specifies requirements about collecting, storing, and using personal information and deals with sharing personal data outside of the EU. It imposes rules on organizations that offer goods and services in the EU. These rules apply no matter where the organization is located.\n",
    "\n",
    "PCI DSS refers to a common reference architecture for the proper handling of credit card data. It provides guidelines that Azure customers need to meet the standards in an Azure deployment.\n",
    "\n",
    "HITRUST is a privately held company that has established a Common Security Framwork (CSF) to work with sensitive or regulated information.\n",
    "\n",
    "ISO is an international standards-based non-regulatory agency based in Geneva, Switzerland."
   ]
  },
  {
   "cell_type": "markdown",
   "metadata": {},
   "source": [
    "### Azure Government\n",
    "\n",
    "Azure Government is only available in the United States. It offers a physically isolated instance of Azure to keep government services and data separate from non-government services and data."
   ]
  },
  {
   "cell_type": "markdown",
   "metadata": {},
   "source": [
    "### Audit Report\n",
    "\n",
    "Audit reports allow you to determine how compliant Azure is with regards to General Data Protection Regulation (GDPR). Audit reports allow you to view a list of independent assessments on Microsoft cloud services. The reports provide infromation about compliance related to GDPR, National Institute of Standards and Technology (NIST), International Standard Organization (ISO), and other standards. "
   ]
  },
  {
   "cell_type": "markdown",
   "metadata": {},
   "source": [
    "### Compliance Manager\n",
    "\n",
    "Compliance Manager does not allow you to determin how compliant Azure is with regards to GDPR. Compliance Manager is a workflow in the Service Trust Portal that allows tyou to view a compliance score to determine how well your services, not Microsoft's, comply with industry standards."
   ]
  },
  {
   "cell_type": "markdown",
   "metadata": {},
   "source": [
    "## Describe Azure Pricing, SLA, and Lifecycles"
   ]
  },
  {
   "cell_type": "markdown",
   "metadata": {},
   "source": [
    "### Subscription\n",
    "\n",
    "Quotas for resources in Azure Resource Groups are per region rather than per subscription."
   ]
  },
  {
   "cell_type": "markdown",
   "metadata": {},
   "source": [
    "### SLA\n",
    "\n",
    "Multi-factor authentication, Azure DNS, and Security Center Standard tire have a financially-backed SLA.\n",
    "\n",
    "Container Registry, Azure Advisor, and Azure Policy are all free sservices and for that reason do not have a financially-backed SLA.\n",
    "\n",
    "The minimum configuration needed to provide SLA guarantees is a VM instance with premium storage. (not standard storage)"
   ]
  },
  {
   "cell_type": "markdown",
   "metadata": {},
   "source": [
    "### Preview\n",
    "\n",
    "Preview supplemental terms of use for Azure previews apply in additional to, rather than instead of, any terms of use governing Azure. Some previews may have terms of use specific to that preview."
   ]
  },
  {
   "cell_type": "markdown",
   "metadata": {},
   "source": [
    "### Microsoft Lifecycle Policy\n",
    "\n",
    "The Fixed Lifecycle Policy applies to products with defined end-of-support dates, covering 10 years of support. This policy applies to many products available through retail purchase or volume licensing, including Windows operating systems and on-premises servers. Microsoft Modern Lifecycle Policy covers products and services that are continually serviced and supported, including Azure Cloud Services.\n",
    "\n",
    "Under the Modern Lifecycle Policy, Microsoft will not provide a notification a minimum of 12 months before ending support for free services if no successor product or service is offered. Microsoft does provide a notification if no successor product or service is offered, but free services and preview releases are exempted from this policy.\n",
    "\n",
    "Microsoft will provide a notification at least 30 days before users must take action to avoid significant degradation to the normal use of a product or service. Customers can continue to use the product or service after this notification period, but they may experience degraded performance or limited product support."
   ]
  },
  {
   "cell_type": "markdown",
   "metadata": {},
   "source": [
    "### Free Account \n",
    "\n",
    "The maximum length of time you can use an Azure free subscription before it expires - 30 days.\n",
    "\n",
    "What factors affect the cost of an App Service:\n",
    "- Instance type\n",
    "- Number of instances\n",
    "- Operating system\n",
    "- Region\n",
    "- Tier\n",
    "\n",
    "What factors do not affect cost:\n",
    "- Number of WebJobs (it's free)\n",
    "- Type of application framwork"
   ]
  },
  {
   "cell_type": "markdown",
   "metadata": {},
   "source": [
    "### Azure Updates\n",
    "\n",
    "On the Azure updates page, you can find products that are currently in development. This page also lists products that are in preview and products that have moved to General Availability (GA)."
   ]
  }
 ],
 "metadata": {
  "kernelspec": {
   "display_name": "Python 3",
   "language": "python",
   "name": "python3"
  },
  "language_info": {
   "codemirror_mode": {
    "name": "ipython",
    "version": 3
   },
   "file_extension": ".py",
   "mimetype": "text/x-python",
   "name": "python",
   "nbconvert_exporter": "python",
   "pygments_lexer": "ipython3",
   "version": "3.5.2"
  }
 },
 "nbformat": 4,
 "nbformat_minor": 2
}
