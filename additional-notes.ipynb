{
 "cells": [
  {
   "cell_type": "markdown",
   "metadata": {},
   "source": [
    "- VM Subnet?\n",
    "- Free account - what it provides/includes; Free vs Premium\n",
    "- Azure Resrouce Manager templates"
   ]
  },
  {
   "cell_type": "markdown",
   "metadata": {},
   "source": [
    "## Dscribe Core Azure Services"
   ]
  },
  {
   "cell_type": "markdown",
   "metadata": {},
   "source": [
    "### Azure Virtual Machine Scale Sets\n",
    "\n",
    "Azure virtual machine scal sets allow you to create and manage identical VMs. They provide for the number of VM instances to increase or decrease automatically as demand changes. You can dploy multiple scale sets to meet the needs of multiple large-scale service requirements.\n",
    "\n",
    "Virtual machine scale sets automatically create and integrate with Azure load balancer or Application Gateway. This is one of the advantages of using VM scale sets over deploying individual VMs, inwhich case you would need to manually create and configure Azure Load Balancer and Application Gateway.\n",
    "\n",
    "VM scale sets provide for automatic distribution over Availability Sets and Availability Zones, but not Regions.\n",
    "\n",
    "VM Scale sets can rapidly create hundreds of identical VMs from a central configuration. This includes all instances using the same base operating system. It ensures that configurations for VM size, disk configuration, and installed applications are identical for each VM instance. Virtual machine scale sets support up to 1000 VM instances unless you upload a custom VM instance, in which case you are limited to 300 VM instances."
   ]
  },
  {
   "cell_type": "markdown",
   "metadata": {},
   "source": [
    "### Function App\n",
    "\n",
    "Scenario: You want to execute JavaScript code that sends a maintenance email every Sunday evening.\n",
    "- Resource: Function - A Function app allows you to write code that executes on a trigger or a schedule.\n",
    "\n",
    "Scenario: You want to use serverless computating to design a graphical workflow.\n",
    "- Resource: Logic app / not Function app - You should not use a Function app. A Function app contains one or more functions that require you to write code. You cannot design a grahpical workflow.\n",
    "\n",
    "Senario: Execute a graphical wokflow in a browser\n",
    "- Resource: Power Automate"
   ]
  },
  {
   "cell_type": "markdown",
   "metadata": {},
   "source": [
    "### Machine Learning Studio & Machine Learning Service\n",
    "\n",
    "Machine learning models created in Machine Learnign Studio cannot be deployed or maganed by Azure Machine Learning service. Machine Learning Studio solutions are managed in Machine Learning Studio and are only deployed as webservices."
   ]
  },
  {
   "cell_type": "markdown",
   "metadata": {},
   "source": [
    "### Azure PowerShell\n",
    "\n",
    "Azure PowerShell can be used to create scripts to automate Azure management tasks. Azure PowerShell VM management can be used to manage Windows, Linus, Nd Mac OS VMs. \n",
    "\n",
    "Azure PowerShell cam be run in a browser in the Azure Cloud Shell or by connecting through Azure PowerShell. In additional to Azure PowerShell, Azure Cloud Shell supports Azure Command-line interface (CLI) and many programming languages.\n",
    "\n",
    "Azure Resource Manager templates use basic JavaScript Object Notation (JSON) syntax with support for expressions and functions that extend JSON values. JSON is a language-independent data format that is supported by a variety of programming languages."
   ]
  },
  {
   "cell_type": "markdown",
   "metadata": {},
   "source": [
    "### Azure PowerShell & Azure CLI\n",
    "\n",
    "Commands work the same on Mac, Linux, and Windows with Azure CLI. Azure PowerShell commands work the same on Linx and Windows. PowerShell commands are supported on Mac system if you install PowerShell Core.\n",
    "\n",
    "Azure Cloud Shell supports both Azure PowerShell and Azure CLI. When launching Cloud Shell, choose Bash to support Azure CLI commands and PowerShell to support Azure PowerShell commands.\n",
    "\n",
    "Both Azure CLI and Azure PowerShell execute commands in an interactive command-line based environment.\n",
    "\n",
    "Niether Azure CLI nor Azure PowerShell supports a GUI interface. They are both command-line only environments."
   ]
  },
  {
   "cell_type": "markdown",
   "metadata": {},
   "source": [
    "## Describe Security, Privacy, Compliance, and Trust"
   ]
  },
  {
   "cell_type": "markdown",
   "metadata": {},
   "source": [
    "- Free vs Premium account\n",
    "- Details of Azure Advanced Threat Protection (ATP)"
   ]
  },
  {
   "cell_type": "markdown",
   "metadata": {},
   "source": [
    "### Azure Service Health\n",
    "\n",
    "Service Health notifies you if your App Service usage exceeds the usage quota. this is referred to as a health advisory.\n",
    "\n",
    "Service Health does not allow you to receive emails when unauthorized users attempt to access a VM. Unauthorized login attemps are saved in resource logs."
   ]
  },
  {
   "cell_type": "markdown",
   "metadata": {},
   "source": [
    "### Azure Monitor\n",
    "\n",
    "Azure Monitor can use autoscale to add or remove resources as appropriate to minimize costs and ensure performance. You can create rules based on metrics collected by Azure Monitor to match resources to an application load."
   ]
  },
  {
   "cell_type": "markdown",
   "metadata": {},
   "source": [
    "### Regulations\n",
    "\n",
    "NIST 800-171 is a United States regulation that provides guidelines addressing controlled unclassified information (CUI) in non-federal information systems and organizations. It specifies how organizations that work with the US government need to set up to their information systems and policies to protect CUI. CUI is any unclassified information created by the government that needs protection. NIST is a national standards-based non-regulatory agency that is based in the United States and is part of the US Department of Commerce.\n",
    "\n",
    "GDPR addresses data protection and privacy for all individuals in the European Union (EU). It specifies requirements about collecting, storing, and using personal informaation and deals with sharing personal data outside of the EU. It imposes rules on organizations that offer goods and services in the EU. These rules apply no matter where the organization is located.\n",
    "\n",
    "PCI DSS refers to a common reference architecture for the proper handling of credit card data. It provides guidelines that Azure customers need to meet the standards in an Azure deployment.\n",
    "\n",
    "HITRUST is a privately held company that has established a Common Security Framwork (CSF) to work with sensitive or regulated information.\n",
    "\n",
    "ISO is an international standards-based non-regulatory agency based in Geneva, Switzerland."
   ]
  },
  {
   "cell_type": "markdown",
   "metadata": {},
   "source": [
    "### Azure Government\n",
    "\n",
    "Azure Government is only available in the United States. It offers a physically isolated instance of Azure to keep government services and data separate from non-government services and data."
   ]
  },
  {
   "cell_type": "markdown",
   "metadata": {},
   "source": [
    "### Audit Report\n",
    "\n",
    "Audit reports allow you to determine how compliant Azure is with regards to General Data Protection Regulation (GDPR). Audit reports allow you to view a list of independent assessments on Mucrosoft cloud services. The reports provide infromation about compliance related to GDPR, National Institute of Standards and Technology (NIST), International Standard Organization (ISO), and other standards. "
   ]
  },
  {
   "cell_type": "markdown",
   "metadata": {},
   "source": [
    "### Compliance Manager\n",
    "\n",
    "Compliance Manager does not allow you to determin how compliant Azure is with regards to GDPR. Compliance Manager is a workflow in the Service Trust Portal that allows tyou to view a compliance score to determine how well your services, not Microsoft's, comply with industry standards."
   ]
  },
  {
   "cell_type": "markdown",
   "metadata": {},
   "source": [
    "## Describe Azure Pricing, SLA, and Lifecycles"
   ]
  },
  {
   "cell_type": "markdown",
   "metadata": {},
   "source": [
    "### SLA\n",
    "\n",
    "Multi-factor authentication, Azure DNS, and Security Center Standard tire have a financially-backed SLA.\n",
    "\n",
    "Container Registry, Azure Advisor, and Azure Policy are all free sservices and for that reason do not have a financially-backed SLA."
   ]
  },
  {
   "cell_type": "markdown",
   "metadata": {},
   "source": [
    "### Preview\n",
    "\n",
    "Preview supplemental terms of use for Azure previews apply in additional to, rather than instead of, any terms of use governing Azure. Some previews may have terms of use specific to that preview."
   ]
  },
  {
   "cell_type": "markdown",
   "metadata": {},
   "source": [
    "### Microsoft Lifecycle Policy\n",
    "\n",
    "The Fized Lifecycle Policy applies to products with defined end-of-support dates, covering 10 years of support. This policy applies to many products available through retail purchase or volume licensing, including Windows operating systems and on-premises servers. Microsoft Modern Lifecycle Policy covers products and services that are continually serviced and supported, including Azure Cloud Services."
   ]
  },
  {
   "cell_type": "code",
   "execution_count": null,
   "metadata": {},
   "outputs": [],
   "source": []
  },
  {
   "cell_type": "code",
   "execution_count": null,
   "metadata": {},
   "outputs": [],
   "source": []
  }
 ],
 "metadata": {
  "kernelspec": {
   "display_name": "Python 3",
   "language": "python",
   "name": "python3"
  },
  "language_info": {
   "codemirror_mode": {
    "name": "ipython",
    "version": 3
   },
   "file_extension": ".py",
   "mimetype": "text/x-python",
   "name": "python",
   "nbconvert_exporter": "python",
   "pygments_lexer": "ipython3",
   "version": "3.5.2"
  }
 },
 "nbformat": 4,
 "nbformat_minor": 2
}
